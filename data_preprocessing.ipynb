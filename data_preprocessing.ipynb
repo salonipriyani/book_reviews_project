{
 "cells": [
  {
   "cell_type": "code",
   "execution_count": 54,
   "metadata": {},
   "outputs": [],
   "source": [
    "import pandas as pd\n",
    "\n",
    "import re\n",
    "\n",
    "from nltk.corpus import stopwords\n",
    "\n"
   ]
  },
  {
   "cell_type": "code",
   "execution_count": 55,
   "metadata": {},
   "outputs": [
    {
     "data": {
      "text/html": [
       "<div>\n",
       "<style scoped>\n",
       "    .dataframe tbody tr th:only-of-type {\n",
       "        vertical-align: middle;\n",
       "    }\n",
       "\n",
       "    .dataframe tbody tr th {\n",
       "        vertical-align: top;\n",
       "    }\n",
       "\n",
       "    .dataframe thead th {\n",
       "        text-align: right;\n",
       "    }\n",
       "</style>\n",
       "<table border=\"1\" class=\"dataframe\">\n",
       "  <thead>\n",
       "    <tr style=\"text-align: right;\">\n",
       "      <th></th>\n",
       "      <th>book_id</th>\n",
       "      <th>date_added</th>\n",
       "      <th>date_updated</th>\n",
       "      <th>n_comments</th>\n",
       "      <th>n_votes</th>\n",
       "      <th>rating</th>\n",
       "      <th>read_at</th>\n",
       "      <th>review_id</th>\n",
       "      <th>review_text</th>\n",
       "      <th>started_at</th>\n",
       "      <th>user_id</th>\n",
       "    </tr>\n",
       "  </thead>\n",
       "  <tbody>\n",
       "    <tr>\n",
       "      <th>0</th>\n",
       "      <td>402128</td>\n",
       "      <td>Tue Jun 12 08:59:04 -0700 2012</td>\n",
       "      <td>Fri Jun 15 11:41:12 -0700 2012</td>\n",
       "      <td>0</td>\n",
       "      <td>0</td>\n",
       "      <td>5</td>\n",
       "      <td></td>\n",
       "      <td>28423ff309bc896c071a8d9df4a10e8a</td>\n",
       "      <td>I have three younger siblings and we grew up w...</td>\n",
       "      <td></td>\n",
       "      <td>3ca7375dba942a760e53b726c472a7dd</td>\n",
       "    </tr>\n",
       "    <tr>\n",
       "      <th>1</th>\n",
       "      <td>92270</td>\n",
       "      <td>Mon Apr 14 18:42:40 -0700 2014</td>\n",
       "      <td>Mon Apr 14 18:43:05 -0700 2014</td>\n",
       "      <td>0</td>\n",
       "      <td>0</td>\n",
       "      <td>5</td>\n",
       "      <td>Wed Jan 01 00:00:00 -0800 1997</td>\n",
       "      <td>2db1180992e2b0b1631a3ac5644bde84</td>\n",
       "      <td>This is my favorite collection of poetry.</td>\n",
       "      <td></td>\n",
       "      <td>0ef32090550901ead25cb0ea21c4d36b</td>\n",
       "    </tr>\n",
       "    <tr>\n",
       "      <th>2</th>\n",
       "      <td>908708</td>\n",
       "      <td>Tue Apr 22 13:58:10 -0700 2008</td>\n",
       "      <td>Tue Apr 22 13:58:33 -0700 2008</td>\n",
       "      <td>0</td>\n",
       "      <td>0</td>\n",
       "      <td>4</td>\n",
       "      <td></td>\n",
       "      <td>bca57fa40e92c9261b00b03dbebd96fe</td>\n",
       "      <td>He's so disturbing. So very, very disturbing.</td>\n",
       "      <td></td>\n",
       "      <td>0ef32090550901ead25cb0ea21c4d36b</td>\n",
       "    </tr>\n",
       "    <tr>\n",
       "      <th>3</th>\n",
       "      <td>253264</td>\n",
       "      <td>Wed Sep 27 19:08:08 -0700 2017</td>\n",
       "      <td>Sat Sep 30 06:39:45 -0700 2017</td>\n",
       "      <td>0</td>\n",
       "      <td>1</td>\n",
       "      <td>5</td>\n",
       "      <td>Wed Sep 27 00:00:00 -0700 2017</td>\n",
       "      <td>cb1ebc02d8b2aff15735d513877463ce</td>\n",
       "      <td>I just reread this play for a class I am takin...</td>\n",
       "      <td>Tue Sep 26 00:00:00 -0700 2017</td>\n",
       "      <td>d37b46b2190ed7c518259f29b47a9b36</td>\n",
       "    </tr>\n",
       "    <tr>\n",
       "      <th>4</th>\n",
       "      <td>70885</td>\n",
       "      <td>Thu Jun 18 20:00:03 -0700 2015</td>\n",
       "      <td>Thu Jun 18 20:01:29 -0700 2015</td>\n",
       "      <td>0</td>\n",
       "      <td>0</td>\n",
       "      <td>5</td>\n",
       "      <td>Thu Jun 18 00:00:00 -0700 2015</td>\n",
       "      <td>8dca128b8e869048a7442c18659dbece</td>\n",
       "      <td>Cuanto mas leo, mas me gusta. Su poesia es env...</td>\n",
       "      <td>Tue Jun 16 00:00:00 -0700 2015</td>\n",
       "      <td>af157d0205b8a901dee6d4a2aed7e6ad</td>\n",
       "    </tr>\n",
       "  </tbody>\n",
       "</table>\n",
       "</div>"
      ],
      "text/plain": [
       "   book_id                      date_added                    date_updated  \\\n",
       "0   402128  Tue Jun 12 08:59:04 -0700 2012  Fri Jun 15 11:41:12 -0700 2012   \n",
       "1    92270  Mon Apr 14 18:42:40 -0700 2014  Mon Apr 14 18:43:05 -0700 2014   \n",
       "2   908708  Tue Apr 22 13:58:10 -0700 2008  Tue Apr 22 13:58:33 -0700 2008   \n",
       "3   253264  Wed Sep 27 19:08:08 -0700 2017  Sat Sep 30 06:39:45 -0700 2017   \n",
       "4    70885  Thu Jun 18 20:00:03 -0700 2015  Thu Jun 18 20:01:29 -0700 2015   \n",
       "\n",
       "   n_comments  n_votes  rating                         read_at  \\\n",
       "0           0        0       5                                   \n",
       "1           0        0       5  Wed Jan 01 00:00:00 -0800 1997   \n",
       "2           0        0       4                                   \n",
       "3           0        1       5  Wed Sep 27 00:00:00 -0700 2017   \n",
       "4           0        0       5  Thu Jun 18 00:00:00 -0700 2015   \n",
       "\n",
       "                          review_id  \\\n",
       "0  28423ff309bc896c071a8d9df4a10e8a   \n",
       "1  2db1180992e2b0b1631a3ac5644bde84   \n",
       "2  bca57fa40e92c9261b00b03dbebd96fe   \n",
       "3  cb1ebc02d8b2aff15735d513877463ce   \n",
       "4  8dca128b8e869048a7442c18659dbece   \n",
       "\n",
       "                                         review_text  \\\n",
       "0  I have three younger siblings and we grew up w...   \n",
       "1          This is my favorite collection of poetry.   \n",
       "2      He's so disturbing. So very, very disturbing.   \n",
       "3  I just reread this play for a class I am takin...   \n",
       "4  Cuanto mas leo, mas me gusta. Su poesia es env...   \n",
       "\n",
       "                       started_at                           user_id  \n",
       "0                                  3ca7375dba942a760e53b726c472a7dd  \n",
       "1                                  0ef32090550901ead25cb0ea21c4d36b  \n",
       "2                                  0ef32090550901ead25cb0ea21c4d36b  \n",
       "3  Tue Sep 26 00:00:00 -0700 2017  d37b46b2190ed7c518259f29b47a9b36  \n",
       "4  Tue Jun 16 00:00:00 -0700 2015  af157d0205b8a901dee6d4a2aed7e6ad  "
      ]
     },
     "execution_count": 55,
     "metadata": {},
     "output_type": "execute_result"
    }
   ],
   "source": [
    "reviews_json_file  = 'dataset/goodreads_reviews_poetry.json'\n",
    "reviews_json = pd.read_json(reviews_json_file, convert_dates = True, lines = True)\n",
    "\n",
    "reviews_json.head()"
   ]
  },
  {
   "cell_type": "code",
   "execution_count": 56,
   "metadata": {},
   "outputs": [
    {
     "data": {
      "text/plain": [
       "0    I have three younger siblings and we grew up w...\n",
       "1            This is my favorite collection of poetry.\n",
       "2        He's so disturbing. So very, very disturbing.\n",
       "3    I just reread this play for a class I am takin...\n",
       "4    Cuanto mas leo, mas me gusta. Su poesia es env...\n",
       "Name: review_text, dtype: object"
      ]
     },
     "execution_count": 56,
     "metadata": {},
     "output_type": "execute_result"
    }
   ],
   "source": [
    "reviews = reviews_json['review_text']\n",
    "reviews.head()"
   ]
  },
  {
   "cell_type": "code",
   "execution_count": 57,
   "metadata": {},
   "outputs": [
    {
     "data": {
      "text/plain": [
       "pandas.core.frame.DataFrame"
      ]
     },
     "execution_count": 57,
     "metadata": {},
     "output_type": "execute_result"
    }
   ],
   "source": [
    "reviews = reviews.to_frame()\n",
    "type(reviews)"
   ]
  },
  {
   "cell_type": "code",
   "execution_count": 58,
   "metadata": {},
   "outputs": [
    {
     "data": {
      "text/html": [
       "<div>\n",
       "<style scoped>\n",
       "    .dataframe tbody tr th:only-of-type {\n",
       "        vertical-align: middle;\n",
       "    }\n",
       "\n",
       "    .dataframe tbody tr th {\n",
       "        vertical-align: top;\n",
       "    }\n",
       "\n",
       "    .dataframe thead th {\n",
       "        text-align: right;\n",
       "    }\n",
       "</style>\n",
       "<table border=\"1\" class=\"dataframe\">\n",
       "  <thead>\n",
       "    <tr style=\"text-align: right;\">\n",
       "      <th></th>\n",
       "      <th>review_text</th>\n",
       "      <th>pos_neg</th>\n",
       "    </tr>\n",
       "  </thead>\n",
       "  <tbody>\n",
       "    <tr>\n",
       "      <th>0</th>\n",
       "      <td>I have three younger siblings and we grew up w...</td>\n",
       "      <td>1</td>\n",
       "    </tr>\n",
       "    <tr>\n",
       "      <th>1</th>\n",
       "      <td>This is my favorite collection of poetry.</td>\n",
       "      <td>1</td>\n",
       "    </tr>\n",
       "    <tr>\n",
       "      <th>2</th>\n",
       "      <td>He's so disturbing. So very, very disturbing.</td>\n",
       "      <td>1</td>\n",
       "    </tr>\n",
       "    <tr>\n",
       "      <th>3</th>\n",
       "      <td>I just reread this play for a class I am takin...</td>\n",
       "      <td>1</td>\n",
       "    </tr>\n",
       "    <tr>\n",
       "      <th>4</th>\n",
       "      <td>Cuanto mas leo, mas me gusta. Su poesia es env...</td>\n",
       "      <td>1</td>\n",
       "    </tr>\n",
       "  </tbody>\n",
       "</table>\n",
       "</div>"
      ],
      "text/plain": [
       "                                         review_text  pos_neg\n",
       "0  I have three younger siblings and we grew up w...        1\n",
       "1          This is my favorite collection of poetry.        1\n",
       "2      He's so disturbing. So very, very disturbing.        1\n",
       "3  I just reread this play for a class I am takin...        1\n",
       "4  Cuanto mas leo, mas me gusta. Su poesia es env...        1"
      ]
     },
     "execution_count": 58,
     "metadata": {},
     "output_type": "execute_result"
    }
   ],
   "source": [
    "reviews['pos_neg'] = [1 if x>3 else 0 for x in reviews_json.rating] \n",
    "reviews.head()"
   ]
  },
  {
   "cell_type": "code",
   "execution_count": 59,
   "metadata": {},
   "outputs": [
    {
     "data": {
      "text/plain": [
       "'I have three younger siblings and we grew up watching the musical Cats. We knew all the songs and attempted to do the dance moves too. I remember we used to get trouble for jumping off the sofa too. When I found out that Cats was based off of poems, I really wanted to read them. I asked for the book for Christmas one year and I read them all that day. The poems are beautifully written and actually tell stories, whereas some poems are just descriptions. I have no idea how T.S, Eliot came up with so creative and brilliant with something as familiar as the family cat. Eliot is a great writer and I would recommend this book to anyone who is looking for a break from all the intense, sophisticated poems/books they are usually reading. This book is fun and is guaranteed to brighten your day!'"
      ]
     },
     "execution_count": 59,
     "metadata": {},
     "output_type": "execute_result"
    }
   ],
   "source": [
    "reviews['review_text'][0]"
   ]
  },
  {
   "cell_type": "code",
   "execution_count": 60,
   "metadata": {},
   "outputs": [],
   "source": [
    "english_stop_words = stopwords.words('english')\n",
    "\n",
    "def remove_stop_words(corpus):\n",
    "    removed_stop_words = []\n",
    "    for review in corpus:\n",
    "        removed_stop_words.append(' '.join([word for word in review.split() if word not in english_stop_words]))\n",
    "    return removed_stop_words\n",
    "reviews['review_text'] = remove_stop_words(reviews['review_text'])"
   ]
  },
  {
   "cell_type": "code",
   "execution_count": 61,
   "metadata": {},
   "outputs": [
    {
     "data": {
      "text/plain": [
       "'I three younger siblings grew watching musical Cats. We knew songs attempted dance moves too. I remember used get trouble jumping sofa too. When I found Cats based poems, I really wanted read them. I asked book Christmas one year I read day. The poems beautifully written actually tell stories, whereas poems descriptions. I idea T.S, Eliot came creative brilliant something familiar family cat. Eliot great writer I would recommend book anyone looking break intense, sophisticated poems/books usually reading. This book fun guaranteed brighten day!'"
      ]
     },
     "execution_count": 61,
     "metadata": {},
     "output_type": "execute_result"
    }
   ],
   "source": [
    "reviews['review_text'][0]"
   ]
  },
  {
   "cell_type": "code",
   "execution_count": 62,
   "metadata": {},
   "outputs": [],
   "source": [
    "from nltk.stem import WordNetLemmatizer\n",
    "def get_lemmatized_text(corpus):\n",
    "    lemmatized = []\n",
    "    lemmatizer = WordNetLemmatizer()\n",
    "    for review in corpus:\n",
    "        lemmatized.append(' '.join([lemmatizer.lemmatize(word) for word in review.split()]))\n",
    "    return lemmatized\n",
    "\n",
    "reviews['review_text'] = get_lemmatized_text(reviews['review_text'])"
   ]
  },
  {
   "cell_type": "code",
   "execution_count": 63,
   "metadata": {},
   "outputs": [
    {
     "data": {
      "text/plain": [
       "'I three younger sibling grew watching musical Cats. We knew song attempted dance move too. I remember used get trouble jumping sofa too. When I found Cats based poems, I really wanted read them. I asked book Christmas one year I read day. The poem beautifully written actually tell stories, whereas poem descriptions. I idea T.S, Eliot came creative brilliant something familiar family cat. Eliot great writer I would recommend book anyone looking break intense, sophisticated poems/books usually reading. This book fun guaranteed brighten day!'"
      ]
     },
     "execution_count": 63,
     "metadata": {},
     "output_type": "execute_result"
    }
   ],
   "source": [
    "reviews['review_text'][0]"
   ]
  },
  {
   "cell_type": "code",
   "execution_count": 64,
   "metadata": {},
   "outputs": [
    {
     "name": "stdout",
     "output_type": "stream",
     "text": [
      "Stored 'reviews' (DataFrame)\n"
     ]
    }
   ],
   "source": [
    "%store reviews"
   ]
  }
 ],
 "metadata": {
  "kernelspec": {
   "display_name": "Python 3",
   "language": "python",
   "name": "python3"
  },
  "language_info": {
   "codemirror_mode": {
    "name": "ipython",
    "version": 3
   },
   "file_extension": ".py",
   "mimetype": "text/x-python",
   "name": "python",
   "nbconvert_exporter": "python",
   "pygments_lexer": "ipython3",
   "version": "3.7.3"
  }
 },
 "nbformat": 4,
 "nbformat_minor": 2
}
